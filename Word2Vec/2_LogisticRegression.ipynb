{
 "cells": [
  {
   "cell_type": "code",
   "execution_count": 1,
   "id": "201fbcc3",
   "metadata": {},
   "outputs": [],
   "source": [
    "import numpy as np\n",
    "import pathlib\n",
    "from scipy import sparse\n",
    "from sklearn.metrics import classification_report, ConfusionMatrixDisplay, roc_auc_score\n",
    "from sklearn.metrics import precision_recall_fscore_support as score\n",
    "import time\n",
    "from sklearn.linear_model import LogisticRegression"
   ]
  },
  {
   "cell_type": "markdown",
   "id": "fdd7c5f0",
   "metadata": {},
   "source": [
    "## Load Data\n",
    "Although it should not matter for linear models, we will use the standardized datasets for Logistic Regression."
   ]
  },
  {
   "cell_type": "code",
   "execution_count": 2,
   "id": "fe200584",
   "metadata": {},
   "outputs": [
    {
     "name": "stdout",
     "output_type": "stream",
     "text": [
      "(34696, 1056) (34696,)\n"
     ]
    }
   ],
   "source": [
    "datapath = pathlib.Path('.') / 'Data'\n",
    "data_loader = np.load(datapath / 'PreprocessedData_Scaled_wMask.npz')\n",
    "X_train = sparse.csr_matrix((data_loader['X_train_data'],\n",
    "                                   data_loader['X_train_indices'],\n",
    "                                   data_loader['X_train_indptr']),\n",
    "                                  shape = data_loader['X_train_shape'])\n",
    "y_train = data_loader['y_train']\n",
    "X_test = sparse.csr_matrix((data_loader['X_test_data'],\n",
    "                                  data_loader['X_test_indices'],\n",
    "                                  data_loader['X_test_indptr']),\n",
    "                                 shape = data_loader['X_test_shape'])\n",
    "y_test = data_loader['y_test']\n",
    "print(X_train.shape, y_train.shape)"
   ]
  },
  {
   "cell_type": "markdown",
   "id": "506cfa87",
   "metadata": {},
   "source": [
    "## Model"
   ]
  },
  {
   "cell_type": "code",
   "execution_count": 3,
   "id": "a4275243",
   "metadata": {},
   "outputs": [],
   "source": [
    "def test_results(y_test, y_pred):\n",
    "    '''\n",
    "        Print out various validation results\n",
    "        takes actual and predicted labels of test set as input\n",
    "        Prints out the numbers, no return value\n",
    "    '''\n",
    "    precision, recall, fscore, train_support = score(y_test,\n",
    "                                                     y_pred,\n",
    "                                                     labels = ['Real', 'Fake'],\n",
    "                                                     average='binary')\n",
    "    print('Fit time: {} / Predict time: {} ---- Precision: {} / Recall: {} / Accuracy: {}'.\\\n",
    "          format(round(fit_time, 3), round(pred_time, 3), round(precision, 3), round(recall, 3),\\\n",
    "                 round((y_pred == y_test).sum()/len(y_pred), 3)))\n",
    "    \n",
    "    print('\\nClassification Report :\\n')\n",
    "    print(classification_report(y_test, y_pred, target_names = ['Real', 'Fake']))\n",
    "\n",
    "    print('ROC AUC Score : {}\\n'.format(roc_auc_score(y_test, y_pred)))\n",
    "    \n",
    "    print('\\nConfusion Matrix :\\n')\n",
    "    ConfusionMatrixDisplay.from_predictions(y_test, y_pred, labels = [0, 1],\n",
    "                                            display_labels = ['Real', 'Fake'], cmap = 'magma')"
   ]
  },
  {
   "cell_type": "code",
   "execution_count": 4,
   "id": "2688cbf6",
   "metadata": {},
   "outputs": [
    {
     "name": "stdout",
     "output_type": "stream",
     "text": [
      "Default Parameters of LogisticRegression :\n",
      "{'C': 1.0, 'class_weight': None, 'dual': False, 'fit_intercept': True, 'intercept_scaling': 1, 'l1_ratio': None, 'max_iter': 100, 'multi_class': 'auto', 'n_jobs': None, 'penalty': 'l2', 'random_state': None, 'solver': 'lbfgs', 'tol': 0.0001, 'verbose': 0, 'warm_start': False}\n"
     ]
    }
   ],
   "source": [
    "default_params = LogisticRegression().get_params()\n",
    "print('Default Parameters of LogisticRegression :\\n{}'.format(default_params))"
   ]
  },
  {
   "cell_type": "code",
   "execution_count": 5,
   "id": "63a67968",
   "metadata": {},
   "outputs": [
    {
     "name": "stderr",
     "output_type": "stream",
     "text": [
      "/home/kb/miniconda3/lib/python3.11/site-packages/sklearn/linear_model/_logistic.py:469: ConvergenceWarning: lbfgs failed to converge (status=1):\n",
      "STOP: TOTAL NO. of ITERATIONS REACHED LIMIT.\n",
      "\n",
      "Increase the number of iterations (max_iter) or scale the data as shown in:\n",
      "    https://scikit-learn.org/stable/modules/preprocessing.html\n",
      "Please also refer to the documentation for alternative solver options:\n",
      "    https://scikit-learn.org/stable/modules/linear_model.html#logistic-regression\n",
      "  n_iter_i = _check_optimize_result(\n"
     ]
    },
    {
     "name": "stdout",
     "output_type": "stream",
     "text": [
      "Fit time: 4.757 / Predict time: 0.008 ---- Precision: 0.919 / Recall: 0.934 / Accuracy: 0.929\n",
      "\n",
      "Classification Report :\n",
      "\n",
      "              precision    recall  f1-score   support\n",
      "\n",
      "        Real       0.94      0.92      0.93      3187\n",
      "        Fake       0.92      0.93      0.93      2936\n",
      "\n",
      "    accuracy                           0.93      6123\n",
      "   macro avg       0.93      0.93      0.93      6123\n",
      "weighted avg       0.93      0.93      0.93      6123\n",
      "\n",
      "ROC AUC Score : 0.9289817006076285\n",
      "\n",
      "\n",
      "Confusion Matrix :\n",
      "\n"
     ]
    },
    {
     "data": {
      "image/png": "[encoded data removed]",
      "text/plain": [
       "<Figure size 640x480 with 2 Axes>"
      ]
     },
     "metadata": {},
     "output_type": "display_data"
    }
   ],
   "source": [
    "logreg = LogisticRegression(random_state = 76)\n",
    "\n",
    "start = time.time()\n",
    "logreg_model = logreg.fit(X_train, y_train)\n",
    "end = time.time()\n",
    "fit_time = (end - start)\n",
    "\n",
    "start = time.time()\n",
    "y_pred = logreg_model.predict(X_test)\n",
    "end = time.time()\n",
    "pred_time = (end - start)\n",
    "\n",
    "test_results(y_test, y_pred)"
   ]
  },
  {
   "cell_type": "code",
   "execution_count": 6,
   "id": "afbdc128",
   "metadata": {},
   "outputs": [
    {
     "name": "stdout",
     "output_type": "stream",
     "text": [
      "No change observed in the Default Logistic Regression parameters after fitting the data.\n"
     ]
    }
   ],
   "source": [
    "new_params = logreg_model.get_params()\n",
    "del new_params['random_state'], default_params['random_state']\n",
    "# since we are manually setting random_state, removing that from comparison\n",
    "if (default_params == new_params):\n",
    "    print('No change observed in the Default Logistic Regression',\\\n",
    "                                    'parameters after fitting the data.')\n",
    "else:\n",
    "    print('Default Logistic Regression changed following parameters after fitting :')\n",
    "    for key, value in default_params.items():\n",
    "        if(value != new_params[key]):\n",
    "            print('{} : {}'.format(key, new_params[key]))"
   ]
  },
  {
   "cell_type": "code",
   "execution_count": 7,
   "id": "96ac482e",
   "metadata": {},
   "outputs": [
    {
     "name": "stdout",
     "output_type": "stream",
     "text": [
      "Fit time: 171.578 / Predict time: 0.021 ---- Precision: 0.92 / Recall: 0.933 / Accuracy: 0.929\n",
      "\n",
      "Classification Report :\n",
      "\n",
      "              precision    recall  f1-score   support\n",
      "\n",
      "        Real       0.94      0.93      0.93      3187\n",
      "        Fake       0.92      0.93      0.93      2936\n",
      "\n",
      "    accuracy                           0.93      6123\n",
      "   macro avg       0.93      0.93      0.93      6123\n",
      "weighted avg       0.93      0.93      0.93      6123\n",
      "\n",
      "ROC AUC Score : 0.928954875862346\n",
      "\n",
      "\n",
      "Confusion Matrix :\n",
      "\n"
     ]
    },
    {
     "name": "stderr",
     "output_type": "stream",
     "text": [
      "/home/kb/miniconda3/lib/python3.11/site-packages/sklearn/linear_model/_sag.py:350: ConvergenceWarning: The max_iter was reached which means the coef_ did not converge\n",
      "  warnings.warn(\n"
     ]
    },
    {
     "data": {
      "image/png": "[encoded data removed]",
      "text/plain": [
       "<Figure size 640x480 with 2 Axes>"
      ]
     },
     "metadata": {},
     "output_type": "display_data"
    }
   ],
   "source": [
    "logreg = LogisticRegression(solver = 'saga',\n",
    "                                 penalty = 'elasticnet',\n",
    "                                 C = 15,\n",
    "                                 l1_ratio = 0,\n",
    "                                 max_iter = 1000,\n",
    "                                 random_state = 76)\n",
    "\n",
    "start = time.time()\n",
    "logreg_model = logreg.fit(X_train, y_train)\n",
    "end = time.time()\n",
    "fit_time = (end - start)\n",
    "\n",
    "start = time.time()\n",
    "y_pred = logreg_model.predict(X_test)\n",
    "end = time.time()\n",
    "pred_time = (end - start)\n",
    "\n",
    "test_results(y_test, y_pred)"
   ]
  }
 ],
 "metadata": {
  "kernelspec": {
   "display_name": "Python 3 (ipykernel)",
   "language": "python",
   "name": "python3"
  },
  "language_info": {
   "codemirror_mode": {
    "name": "ipython",
    "version": 3
   },
   "file_extension": ".py",
   "mimetype": "text/x-python",
   "name": "python",
   "nbconvert_exporter": "python",
   "pygments_lexer": "ipython3",
   "version": "3.11.5"
  }
 },
 "nbformat": 4,
 "nbformat_minor": 5
}
