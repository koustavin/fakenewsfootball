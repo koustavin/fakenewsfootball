{
 "cells": [
  {
   "cell_type": "markdown",
   "id": "b8b5f315-8dfc-4d21-924f-5ebea18ddd4e",
   "metadata": {},
   "source": [
    "The next few notebooks are going to be about each classification method - training the default classifier on the train set, testing it out on the test set, hyperparameter tuning the classifier on train set, and finally testing the best model (among the hyperparameters tuned) on the test set. The hyperparameter tuning is supposed to generate a lot of output - I decided to keep it out of the notebooks, and redirect it to log files. For functions involving log files (and also the test_results function I used in the MultinomialNB notebook), I created a separate python file (loggingScoring.py) - that I will be importing in the next notebooks."
   ]
  },
  {
   "cell_type": "code",
   "execution_count": 1,
   "id": "201fbcc3",
   "metadata": {},
   "outputs": [],
   "source": [
    "import pathlib\n",
    "import numpy as np\n",
    "import pandas as pd\n",
    "from scipy import sparse\n",
    "import time\n",
    "from sklearn.linear_model import LogisticRegression\n",
    "from sklearn.model_selection import GridSearchCV, StratifiedKFold\n",
    "import matplotlib.pyplot as plt\n",
    "import seaborn as sns\n",
    "import loggingScoring as ls"
   ]
  },
  {
   "cell_type": "markdown",
   "id": "d1219c01-fbcc-4c6c-9038-7eb555bfa52e",
   "metadata": {},
   "source": [
    "### Initiating Logging"
   ]
  },
  {
   "cell_type": "code",
   "execution_count": 2,
   "id": "7d43d693-ae72-44a0-b6ad-640af0792954",
   "metadata": {},
   "outputs": [],
   "source": [
    "log = ls.get_logfile('2.log')\n",
    "log.info('Logistic Regression')"
   ]
  },
  {
   "cell_type": "markdown",
   "id": "fdd7c5f0",
   "metadata": {},
   "source": [
    "### Load Data"
   ]
  },
  {
   "cell_type": "code",
   "execution_count": 3,
   "id": "fe200584",
   "metadata": {},
   "outputs": [],
   "source": [
    "datapath = pathlib.Path('..') / 'Data'\n",
    "data_loader = np.load(datapath / 'PreprocessedData.npz')\n",
    "X_train = sparse.csr_matrix((data_loader['X_train_data'],\n",
    "                             data_loader['X_train_indices'],\n",
    "                             data_loader['X_train_indptr']),\n",
    "                            shape = data_loader['X_train_shape'])\n",
    "y_train = data_loader['y_train']\n",
    "X_test = sparse.csr_matrix((data_loader['X_test_data'],\n",
    "                            data_loader['X_test_indices'],\n",
    "                            data_loader['X_test_indptr']),\n",
    "                           shape = data_loader['X_test_shape'])\n",
    "y_test = data_loader['y_test']"
   ]
  },
  {
   "cell_type": "markdown",
   "id": "506cfa87",
   "metadata": {},
   "source": [
    "## Model"
   ]
  },
  {
   "cell_type": "code",
   "execution_count": 4,
   "id": "2688cbf6",
   "metadata": {},
   "outputs": [
    {
     "name": "stdout",
     "output_type": "stream",
     "text": [
      "Default Parameters of LogisticRegression :\n",
      "{'C': 1.0, 'class_weight': None, 'dual': False, 'fit_intercept': True, 'intercept_scaling': 1, 'l1_ratio': None, 'max_iter': 100, 'multi_class': 'auto', 'n_jobs': None, 'penalty': 'l2', 'random_state': None, 'solver': 'lbfgs', 'tol': 0.0001, 'verbose': 0, 'warm_start': False}\n"
     ]
    }
   ],
   "source": [
    "default_params = LogisticRegression().get_params()\n",
    "print('Default Parameters of LogisticRegression :\\n{}'.format(default_params))"
   ]
  },
  {
   "cell_type": "code",
   "execution_count": 5,
   "id": "63a67968",
   "metadata": {},
   "outputs": [
    {
     "name": "stdout",
     "output_type": "stream",
     "text": [
      "Fit time: 0.79 s / Predict time: 0.001 s ---- Precision: 0.954 / Recall: 0.949 / Accuracy: 0.953\n",
      "\n",
      "Classification Report :\n",
      "\n",
      "              precision    recall  f1-score   support\n",
      "\n",
      "        Real       0.95      0.96      0.96      3187\n",
      "        Fake       0.95      0.95      0.95      2936\n",
      "\n",
      "    accuracy                           0.95      6123\n",
      "   macro avg       0.95      0.95      0.95      6123\n",
      "weighted avg       0.95      0.95      0.95      6123\n",
      "\n",
      "ROC AUC Score : 0.9532752479632431\n",
      "\n",
      "\n",
      "Confusion Matrix :\n",
      "\n"
     ]
    },
    {
     "data": {
      "image/png": "[encoded data removed]",
      "text/plain": [
       "<Figure size 640x480 with 2 Axes>"
      ]
     },
     "metadata": {},
     "output_type": "display_data"
    }
   ],
   "source": [
    "logreg = LogisticRegression(random_state = 76)\n",
    "\n",
    "start = time.time()\n",
    "logreg_model = logreg.fit(X_train, y_train)\n",
    "end = time.time()\n",
    "fit_time = (end - start)\n",
    "\n",
    "start = time.time()\n",
    "y_pred = logreg_model.predict(X_test)\n",
    "end = time.time()\n",
    "pred_time = (end - start)\n",
    "\n",
    "ls.test_results(y_test, y_pred, fit_time, pred_time)"
   ]
  },
  {
   "cell_type": "markdown",
   "id": "edfffdc4-0688-491d-8aaa-c690c32b2b3a",
   "metadata": {},
   "source": [
    "This is promising, the default Logistic Regressor already performs better than our baseline. Before moving on to Hyperparameter tuning, I want to see whether there was any change to the default parameters of the regressor while training. "
   ]
  },
  {
   "cell_type": "code",
   "execution_count": 6,
   "id": "afbdc128",
   "metadata": {},
   "outputs": [
    {
     "name": "stdout",
     "output_type": "stream",
     "text": [
      "No change observed in the Default Logistic Regression parameters after fitting the data.\n"
     ]
    }
   ],
   "source": [
    "new_params = logreg_model.get_params()\n",
    "del new_params['random_state'], default_params['random_state']\n",
    "# since we are manually setting random_state, removing that from comparison\n",
    "if (default_params == new_params):\n",
    "    print('No change observed in the Default Logistic Regression',\\\n",
    "                                    'parameters after fitting the data.')\n",
    "else:\n",
    "    print('Default Logistic Regression changed following parameters after fitting :')\n",
    "    for key, value in default_params.items():\n",
    "        if(value != new_params[key]):\n",
    "            print('{} : {}'.format(key, new_params[key]))"
   ]
  },
  {
   "cell_type": "markdown",
   "id": "5fd01cad-009f-43a2-8adc-c19490a5d2b5",
   "metadata": {},
   "source": [
    "### Hyperparameter Tuning"
   ]
  },
  {
   "cell_type": "code",
   "execution_count": 7,
   "id": "96ac482e",
   "metadata": {},
   "outputs": [],
   "source": [
    "logreg_cv = LogisticRegression(max_iter = 1000, random_state = 76)\n",
    "\n",
    "params = [\n",
    "    {\n",
    "        'solver' : ['lbfgs', 'newton-cg', 'sag'],\n",
    "        # lbfgs, newton-cg, sag, newton-cholesky solvers support only l2 or none penalties\n",
    "        # newton-cholesky couldn't work with this many features, ran out of memory\n",
    "        # since it 'has a quadratic dependency on n_features because it explicitly computes the Hessian matrix' - from the doc\n",
    "        'penalty' : ['l2'],\n",
    "        'C' : [0.0001, 0.001, 0.01, 0.1, 0.5, 1, 5, 12, 24, 35, 50, 100, 250, 750, 2000, 5000]\n",
    "    },\n",
    "    {\n",
    "        'solver' : ['lbfgs', 'newton-cg', 'sag', 'saga'],\n",
    "        'penalty' : [None]\n",
    "        # Setting penalty=None will ignore the C and l1_ratio parameters\n",
    "    },\n",
    "    {\n",
    "        'solver' : ['saga'], # only saga solver supports elasticnet penalty\n",
    "        'penalty' : ['elasticnet'],\n",
    "        'l1_ratio' : np.linspace(0, 1, 4), # l1_ratio must be specified when penalty is elasticnet\n",
    "        # 'C' : [0.0001, 0.001, 0.01, 0.1, 0.5, 1, 5, 12, 24, 35, 50, 100, 250, 750, 2000, 5000]\n",
    "        # elasticnet with large C values (less regularization) and non-zero l1_ratio\n",
    "        # (zero l1_ratio indicates pure l2, l1_ratio of 0.33, i.e., 33% l1 & 66% l2, is taking the longest)\n",
    "        # is taking very long time to run, hence decided to reduce the value range\n",
    "        'C' : [0.001, 0.01, 0.1, 0.5, 1, 5, 15, 30, 100, 500, 1000, 3000]\n",
    "    },\n",
    "    {\n",
    "        'solver' : ['saga'],\n",
    "        'penalty' : ['l1', 'l2'],\n",
    "        'C' : [0.0001, 0.001, 0.01, 0.1, 0.5, 1, 5, 12, 24, 35, 50, 100, 250, 750, 2000, 5000]\n",
    "    },\n",
    "    {\n",
    "        'solver' : ['liblinear'], # liblinear solver only supports l1 or l2 penalties\n",
    "        'penalty' : ['l1', 'l2'],\n",
    "        'C' : [0.0001, 0.001, 0.01, 0.1, 0.5, 1, 5, 12, 24, 35, 50, 100, 250, 750, 2000, 5000]\n",
    "    }\n",
    "]\n",
    "\n",
    "skf = StratifiedKFold(n_splits = 3, shuffle = True, random_state = 76)\n",
    "\n",
    "gs = GridSearchCV(estimator = logreg_cv,\n",
    "                  param_grid = params,\n",
    "                  cv = skf,\n",
    "                  scoring = 'accuracy',\n",
    "                  verbose = 3)"
   ]
  },
  {
   "cell_type": "code",
   "execution_count": 8,
   "id": "4048eb1c-48e1-41f1-a672-0a13693c7fcf",
   "metadata": {},
   "outputs": [
    {
     "name": "stdout",
     "output_type": "stream",
     "text": [
      "Grid Search Done.\n"
     ]
    },
    {
     "data": {
      "text/html": [
       "<div>\n",
       "<style scoped>\n",
       "    .dataframe tbody tr th:only-of-type {\n",
       "        vertical-align: middle;\n",
       "    }\n",
       "\n",
       "    .dataframe tbody tr th {\n",
       "        vertical-align: top;\n",
       "    }\n",
       "\n",
       "    .dataframe thead th {\n",
       "        text-align: right;\n",
       "    }\n",
       "</style>\n",
       "<table border=\"1\" class=\"dataframe\">\n",
       "  <thead>\n",
       "    <tr style=\"text-align: right;\">\n",
       "      <th></th>\n",
       "      <th>params</th>\n",
       "      <th>mean_test_score</th>\n",
       "    </tr>\n",
       "  </thead>\n",
       "  <tbody>\n",
       "    <tr>\n",
       "      <th>76</th>\n",
       "      <td>{'C': 15, 'l1_ratio': 0.0, 'penalty': 'elastic...</td>\n",
       "      <td>0.958497</td>\n",
       "    </tr>\n",
       "    <tr>\n",
       "      <th>147</th>\n",
       "      <td>{'C': 12, 'penalty': 'l2', 'solver': 'liblinear'}</td>\n",
       "      <td>0.958439</td>\n",
       "    </tr>\n",
       "    <tr>\n",
       "      <th>145</th>\n",
       "      <td>{'C': 5, 'penalty': 'l2', 'solver': 'liblinear'}</td>\n",
       "      <td>0.958439</td>\n",
       "    </tr>\n",
       "    <tr>\n",
       "      <th>20</th>\n",
       "      <td>{'C': 5, 'penalty': 'l2', 'solver': 'sag'}</td>\n",
       "      <td>0.958439</td>\n",
       "    </tr>\n",
       "    <tr>\n",
       "      <th>115</th>\n",
       "      <td>{'C': 12, 'penalty': 'l2', 'solver': 'saga'}</td>\n",
       "      <td>0.958410</td>\n",
       "    </tr>\n",
       "    <tr>\n",
       "      <th>113</th>\n",
       "      <td>{'C': 5, 'penalty': 'l2', 'solver': 'saga'}</td>\n",
       "      <td>0.958410</td>\n",
       "    </tr>\n",
       "    <tr>\n",
       "      <th>72</th>\n",
       "      <td>{'C': 5, 'l1_ratio': 0.0, 'penalty': 'elasticn...</td>\n",
       "      <td>0.958410</td>\n",
       "    </tr>\n",
       "    <tr>\n",
       "      <th>23</th>\n",
       "      <td>{'C': 12, 'penalty': 'l2', 'solver': 'sag'}</td>\n",
       "      <td>0.958353</td>\n",
       "    </tr>\n",
       "    <tr>\n",
       "      <th>19</th>\n",
       "      <td>{'C': 5, 'penalty': 'l2', 'solver': 'newton-cg'}</td>\n",
       "      <td>0.958324</td>\n",
       "    </tr>\n",
       "    <tr>\n",
       "      <th>18</th>\n",
       "      <td>{'C': 5, 'penalty': 'l2', 'solver': 'lbfgs'}</td>\n",
       "      <td>0.958324</td>\n",
       "    </tr>\n",
       "  </tbody>\n",
       "</table>\n",
       "</div>"
      ],
      "text/plain": [
       "                                                params  mean_test_score\n",
       "76   {'C': 15, 'l1_ratio': 0.0, 'penalty': 'elastic...         0.958497\n",
       "147  {'C': 12, 'penalty': 'l2', 'solver': 'liblinear'}         0.958439\n",
       "145   {'C': 5, 'penalty': 'l2', 'solver': 'liblinear'}         0.958439\n",
       "20          {'C': 5, 'penalty': 'l2', 'solver': 'sag'}         0.958439\n",
       "115       {'C': 12, 'penalty': 'l2', 'solver': 'saga'}         0.958410\n",
       "113        {'C': 5, 'penalty': 'l2', 'solver': 'saga'}         0.958410\n",
       "72   {'C': 5, 'l1_ratio': 0.0, 'penalty': 'elasticn...         0.958410\n",
       "23         {'C': 12, 'penalty': 'l2', 'solver': 'sag'}         0.958353\n",
       "19    {'C': 5, 'penalty': 'l2', 'solver': 'newton-cg'}         0.958324\n",
       "18        {'C': 5, 'penalty': 'l2', 'solver': 'lbfgs'}         0.958324"
      ]
     },
     "execution_count": 8,
     "metadata": {},
     "output_type": "execute_result"
    }
   ],
   "source": [
    "ls.divert_stdOut2log(log) # redirecting grid search output to log\n",
    "gs_fit = gs.fit(X_train, y_train)\n",
    "ls.revert_log2stdOut() # reverting stdout changes, so that results can be printed on notebook\n",
    "print('Grid Search Done.')\n",
    "df_cv_results = pd.DataFrame(gs_fit.cv_results_)\\\n",
    "                            .sort_values('mean_test_score', ascending = False)\n",
    "df_cv_results.to_csv(datapath / 'HPTuningResults' / 'LogisticRegression_cv-results.csv', index = False)\n",
    "df_cv_results[['params', 'mean_test_score']].head(10)"
   ]
  },
  {
   "cell_type": "markdown",
   "id": "3cef4cdb-cf25-41dc-820c-058fd0605ae5",
   "metadata": {},
   "source": [
    "### Best Model"
   ]
  },
  {
   "cell_type": "code",
   "execution_count": 10,
   "id": "18f74d65-b2fd-45fe-b068-8bd41571b6a0",
   "metadata": {},
   "outputs": [
    {
     "name": "stdout",
     "output_type": "stream",
     "text": [
      "Fit time: 9.44 s / Predict time: 0.001 s ---- Precision: 0.956 / Recall: 0.951 / Accuracy: 0.956\n",
      "\n",
      "Classification Report :\n",
      "\n",
      "              precision    recall  f1-score   support\n",
      "\n",
      "        Real       0.96      0.96      0.96      3187\n",
      "        Fake       0.96      0.95      0.95      2936\n",
      "\n",
      "    accuracy                           0.96      6123\n",
      "   macro avg       0.96      0.96      0.96      6123\n",
      "weighted avg       0.96      0.96      0.96      6123\n",
      "\n",
      "ROC AUC Score : 0.95539525781252\n",
      "\n",
      "\n",
      "Confusion Matrix :\n",
      "\n"
     ]
    },
    {
     "data": {
      "image/png": "[encoded data removed]",
      "text/plain": [
       "<Figure size 640x480 with 2 Axes>"
      ]
     },
     "metadata": {},
     "output_type": "display_data"
    }
   ],
   "source": [
    "best_logreg = LogisticRegression(solver = 'saga',\n",
    "                                 penalty = 'elasticnet',\n",
    "                                 C = 15,\n",
    "                                 l1_ratio = 0,\n",
    "                                 max_iter = 1000,\n",
    "                                 random_state = 76)\n",
    "\n",
    "start = time.time()\n",
    "best_logreg_model = best_logreg.fit(X_train, y_train)\n",
    "end = time.time()\n",
    "fit_time = (end - start)\n",
    "\n",
    "start = time.time()\n",
    "y_pred = best_logreg_model.predict(X_test)\n",
    "end = time.time()\n",
    "pred_time = (end - start)\n",
    "\n",
    "ls.test_results(y_test, y_pred, fit_time, pred_time)"
   ]
  }
 ],
 "metadata": {
  "kernelspec": {
   "display_name": "Python 3 (ipykernel)",
   "language": "python",
   "name": "python3"
  },
  "language_info": {
   "codemirror_mode": {
    "name": "ipython",
    "version": 3
   },
   "file_extension": ".py",
   "mimetype": "text/x-python",
   "name": "python",
   "nbconvert_exporter": "python",
   "pygments_lexer": "ipython3",
   "version": "3.11.5"
  }
 },
 "nbformat": 4,
 "nbformat_minor": 5
}
