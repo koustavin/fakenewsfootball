{
 "cells": [
  {
   "cell_type": "code",
   "execution_count": 1,
   "id": "ba497cca",
   "metadata": {},
   "outputs": [],
   "source": [
    "import pathlib\n",
    "import numpy as np\n",
    "import pandas as pd\n",
    "from scipy import sparse\n",
    "import time\n",
    "from sklearn.linear_model import LogisticRegression\n",
    "from sklearn.ensemble import GradientBoostingClassifier, VotingClassifier, StackingClassifier, RandomForestClassifier\n",
    "from sklearn.ensemble import AdaBoostClassifier, ExtraTreesClassifier, HistGradientBoostingClassifier\n",
    "from sklearn.naive_bayes import MultinomialNB\n",
    "from sklearn.model_selection import StratifiedKFold, cross_val_score, train_test_split\n",
    "from sklearn.svm import SVC\n",
    "from sklearn.base import clone\n",
    "import loggingScoring as ls\n",
    "import pickle\n",
    "# not using logs for this one"
   ]
  },
  {
   "cell_type": "markdown",
   "id": "cd530295",
   "metadata": {},
   "source": [
    "### Load Data"
   ]
  },
  {
   "cell_type": "code",
   "execution_count": 2,
   "id": "02a3bc85",
   "metadata": {},
   "outputs": [],
   "source": [
    "datapath = pathlib.Path('..') / 'Data'\n",
    "data_loader = np.load(datapath / 'PreprocessedData.npz')\n",
    "X_train = sparse.csr_matrix((data_loader['X_train_data'],\n",
    "                             data_loader['X_train_indices'],\n",
    "                             data_loader['X_train_indptr']),\n",
    "                            shape = data_loader['X_train_shape'])\n",
    "y_train = data_loader['y_train']\n",
    "X_test = sparse.csr_matrix((data_loader['X_test_data'],\n",
    "                            data_loader['X_test_indices'],\n",
    "                            data_loader['X_test_indptr']),\n",
    "                           shape = data_loader['X_test_shape'])\n",
    "y_test = data_loader['y_test']"
   ]
  },
  {
   "cell_type": "markdown",
   "id": "8d479136",
   "metadata": {},
   "source": [
    "### Model"
   ]
  },
  {
   "cell_type": "markdown",
   "id": "bbfd339c-dde7-48e0-a3a8-377dfa15fcee",
   "metadata": {},
   "source": [
    "This is the comparison of our 'Best' models so far for each classification algorithm (by accuracy, on test set):\n",
    "1) Support Vector Machine - 0.962\n",
    "2) Logistic Regression - 0.956\n",
    "3) Gradient Boosting - 0.955\n",
    "4) XGBoost - 0.944\n",
    "5) Random Forest - 0.941\n",
    "6) Multinomial Naive Bayes - 0.941\n",
    "\n",
    "Clearly, SVM performed best. What I want to do here is try a couple of ensemble learners, like - Voting Classifier (Hard & Soft) and Stacking Classifier (again, Hard & Soft). An Ensemble Learner combines other (possibly weaker) learners to provide an overall better learner. Random Forest is an ensemble learner which combines decision trees (of various depths, splits etc.). Voting & Stacking classifiers are built on similar principles, however, they can combine other various classifiers - for instance, what I'll try here is combine an instance of the best performing SVM classifier, an instance of the best performing Logistic Regression classifier etc. Let's see if these ensemble models can outperform the best SVM model - if it succeeds, then that will be our best model, otherwise SVM wins that title.\n",
    "\n",
    "Question is, which models to use as the building blocks of the Voting/Stacking classifiers. If we are just talking about individual models - we saw many SVM models that outperformed all the other best models mentioned here. Our best SVM model is built with rbf kernel - but there were other kernels with probable better scores than the other models here. But we shouldn't build an ensemble classifier with similar models, since the power of the ensemble model derives from the versatility of the underlying models. The models need to be different because even the ones which the most accurate model gets wrong, might be correctly identified by other (less accurate) models - and when we combine them, we allow ensemble model to harness the best from all.\n",
    "\n",
    "I will test 2 combinations : 1) 3 base estimators - SVM (separate models for hard and soft voting methods), Logistic Regression, and Gradient Boosting; 2) 4 base estimators - SVM (separate models for hard and soft voting methods), Logistic Regression, Gradient Boosting, and Random Forest. I don't want to use XGB, mainly because I'm not sure how well will it play with sklearn, and it's accuracy score is not significantly better than what we achieved with Random Forest (also, I need to build more confidence with XGB).\n",
    "\n",
    "I will try various combinations to find out the best performing set of parameters - in this phase I will restrict myself to training set only. Once the parameter combination is confirmed, only then will I train that model on the whole training set, and test it on the test set - to find out how it fares against the individual models.\n",
    "\n",
    "Most importantly, these ensemble models are more complicated than individual models, and also less explainable. Hence, I will need a substantial jump in performance to justify these models. For instance, our best score (accuracy on the test set) is 0.962 provided by an SVM model - a soft (arguably, more complex than hard) ensemble model with a score of 0.963 will not justify the increase in complexity, and in such a case I will go back to the SVM model."
   ]
  },
  {
   "cell_type": "markdown",
   "id": "52acc2f4-4089-430a-a013-79daa773acf0",
   "metadata": {},
   "source": [
    "#### Voting Classifier"
   ]
  },
  {
   "cell_type": "code",
   "execution_count": 3,
   "id": "a51e2ff8-7021-4170-a0ca-6363afd0fc7c",
   "metadata": {},
   "outputs": [],
   "source": [
    "best_svm = SVC(kernel = 'rbf',\n",
    "               C = 285.84,\n",
    "               gamma = 0.8546,\n",
    "               tol = 0.015,\n",
    "               cache_size=1000,\n",
    "               random_state=76)\n",
    "\n",
    "# for probability prediction to be used in soft models\n",
    "best_svm_prob = SVC(kernel = 'rbf',\n",
    "                 C = 285.84,\n",
    "                 gamma = 0.8546,\n",
    "                 tol = 0.015,\n",
    "                 probability=True,\n",
    "                 cache_size=1000,\n",
    "                 random_state=76)\n",
    "\n",
    "best_logreg = LogisticRegression(solver = 'saga',\n",
    "                                 penalty = 'elasticnet',\n",
    "                                 C = 15,\n",
    "                                 l1_ratio = 0,\n",
    "                                 max_iter = 1000,\n",
    "                                 # increased max_iter to handle \"coef_ did not converge\" errors\n",
    "                                 # while being used in soft models\n",
    "                                 random_state = 76)\n",
    "\n",
    "best_gb = GradientBoostingClassifier(learning_rate = 0.16384,\n",
    "                                     max_depth = 97,\n",
    "                                     max_features = 235,\n",
    "                                     min_samples_leaf = 6,\n",
    "                                     min_samples_split = 142,\n",
    "                                     n_estimators = 2514,\n",
    "                                     random_state=76)\n",
    "\n",
    "best_rf = RandomForestClassifier(max_depth = None,\n",
    "                                 n_estimators = 400,\n",
    "                                 max_features = 'log2',\n",
    "                                 min_samples_leaf = 1,\n",
    "                                 random_state = 76,\n",
    "                                 n_jobs = -1)\n",
    "\n",
    "list_3_estimators_hard = [('svm', best_svm), ('logreg', best_logreg), ('gb', best_gb)]\n",
    "list_4_estimators_hard = [('svm', best_svm), ('logreg', best_logreg), ('gb', best_gb), ('rf', best_rf)]\n",
    "list_3_estimators_soft = [('svm', best_svm_prob), ('logreg', best_logreg), ('gb', best_gb)]\n",
    "list_4_estimators_soft = [('svm', best_svm_prob), ('logreg', best_logreg), ('gb', best_gb), ('rf', best_rf)]"
   ]
  },
  {
   "cell_type": "code",
   "execution_count": 4,
   "id": "c1ebcb68-eb3c-40be-a6b2-6f044cfe626e",
   "metadata": {},
   "outputs": [
    {
     "name": "stdout",
     "output_type": "stream",
     "text": [
      "Voting Classifier with Hard Voting using 3 Estimators :\n",
      "Time Taken : 1508.717 s. Score : 0.96141.\n",
      "Voting Classifier with Hard Voting using 4 Estimators :\n",
      "Time Taken : 1320.514 s. Score : 0.96095.\n",
      "Voting Classifier with Soft Voting using 3 Estimators :\n",
      "Time Taken : 1872.269 s. Score : 0.95976.\n",
      "Voting Classifier with Soft Voting using 4 Estimators :\n",
      "Time Taken : 2022.224 s. Score : 0.9602.\n"
     ]
    }
   ],
   "source": [
    "skf = StratifiedKFold(n_splits = 3, shuffle = True, random_state = 76)\n",
    "for voting in ['hard', 'soft']:\n",
    "    for estimator_count in [3, 4]:\n",
    "        start = time.time()\n",
    "        if ((voting == 'hard') & (estimator_count == 3)):\n",
    "            print('Voting Classifier with Hard Voting using 3 Estimators :')\n",
    "            estimators = list_3_estimators_hard\n",
    "        elif ((voting == 'hard') & (estimator_count == 4)):\n",
    "            print('Voting Classifier with Hard Voting using 4 Estimators :')\n",
    "            estimators = list_4_estimators_hard\n",
    "        elif ((voting == 'soft') & (estimator_count == 3)):\n",
    "            print('Voting Classifier with Soft Voting using 3 Estimators :')\n",
    "            estimators = list_3_estimators_soft\n",
    "        elif ((voting == 'soft') & (estimator_count == 4)):\n",
    "            print('Voting Classifier with Soft Voting using 4 Estimators :')\n",
    "            estimators = list_4_estimators_soft\n",
    "        \n",
    "        voting_classifier = VotingClassifier(estimators = estimators,\n",
    "                                             voting = voting,\n",
    "                                             verbose = False)\n",
    "        \n",
    "        scores = cross_val_score(estimator = voting_classifier,\n",
    "                                 X = X_train,\n",
    "                                 y = y_train,\n",
    "                                 scoring = 'accuracy',\n",
    "                                 cv = skf,\n",
    "                                 verbose = 0)\n",
    "        \n",
    "        mean_score = round(scores.mean(), 5)\n",
    "        end = time.time()\n",
    "        time_taken = round((end - start), 3)\n",
    "        print(f'Time Taken : {time_taken} s. Score : {mean_score}.')"
   ]
  },
  {
   "cell_type": "code",
   "execution_count": 5,
   "id": "7d0100a6-291c-4d84-922c-c60152db27ae",
   "metadata": {},
   "outputs": [
    {
     "name": "stdout",
     "output_type": "stream",
     "text": [
      "[Voting] ...................... (1 of 3) Processing svm, total= 7.0min\n",
      "[Voting] ................... (2 of 3) Processing logreg, total=  21.6s\n",
      "[Voting] ....................... (3 of 3) Processing gb, total= 7.2min\n",
      "Fit time: 874.925 s / Predict time: 43.862 s ---- Precision: 0.96 / Recall: 0.955 / Accuracy: 0.959\n",
      "\n",
      "Classification Report :\n",
      "\n",
      "              precision    recall  f1-score   support\n",
      "\n",
      "        Real       0.96      0.96      0.96      3187\n",
      "        Fake       0.96      0.96      0.96      2936\n",
      "\n",
      "    accuracy                           0.96      6123\n",
      "   macro avg       0.96      0.96      0.96      6123\n",
      "weighted avg       0.96      0.96      0.96      6123\n",
      "\n",
      "ROC AUC Score : 0.9591780278190777\n",
      "\n",
      "\n",
      "Confusion Matrix :\n",
      "\n"
     ]
    },
    {
     "data": {
      "image/png": "[encoded data removed]",
      "text/plain": [
       "<Figure size 640x480 with 2 Axes>"
      ]
     },
     "metadata": {},
     "output_type": "display_data"
    }
   ],
   "source": [
    "voting_classifier = VotingClassifier(estimators = list_3_estimators_hard,\n",
    "                                     voting = 'hard',\n",
    "                                     verbose = True)\n",
    "\n",
    "start = time.time()\n",
    "voting_model = voting_classifier.fit(X_train, y_train)\n",
    "end = time.time()\n",
    "fit_time = (end - start)\n",
    "\n",
    "start = time.time()\n",
    "y_pred = voting_model.predict(X_test)\n",
    "end = time.time()\n",
    "pred_time = (end - start)\n",
    "\n",
    "ls.test_results(y_test, y_pred, fit_time, pred_time)"
   ]
  },
  {
   "cell_type": "markdown",
   "id": "b062fa8c-8501-4b82-935d-5f29db6b14c1",
   "metadata": {},
   "source": [
    "The best Voting Classifier's performance on the Test set could not beat best score of individual model (SVM, 0.962). Next, let's try Stacking Classifier."
   ]
  },
  {
   "cell_type": "markdown",
   "id": "7861f38c-f0c8-452d-8836-cfbd2bfceecd",
   "metadata": {},
   "source": [
    "#### Stacking Classifier\n",
    "Similar to what I did with Voting Classifier - I want to try various options, and Stacking Classifier provides a lot of them. However, the bottleneck here is training time. For Voting Classifiers, hard models took around 10 mins to train (on the training set) and soft models took around 20 mins. However, I tried training Stacking Classifiers separately and they take 33 to 50 mins in similar situations while using cross validation (that the model provides) - and this restricts our ability to test out a lot of the options. We have an interesting option with Stacking Classifier to reduce training time though - we can pre-train the estimators, and that way since each time we want to try a different parameter of Stacking Classifier we reuse those same estimators - we will just need to spend time on training the Stacking Classifier itself. However, two problems with this approach -\n",
    "1) The [docs](https://scikit-learn.org/stable/modules/generated/sklearn.ensemble.StackingClassifier.html) are quite clear that the estimators and the Stacking Classifier itself should not be trained on the same data, since that can overfit quickly.\n",
    "2) Also, when we are using this estimator pre-training, we won't be able to use the inbuilt cross validation provided by Stacking Classifier.\n",
    "\n",
    "What I want from this exercise is to find out the best performing parameter combination based on accuracy, but I can't touch the test set to validate anything until I can confirm the model to use - once I confirm my parameters combination only then may I train a fresh model on the full training set and then test it on the test set. With that target in mind, I need to split my current training set - I will need a sizable chunk to pre-train the estimators, next big chunk will be used for training the Stacking Classifier itself (multiple times with various parameter combinations), and I will also need a relatively small portion to test out the performance of the ensemble model."
   ]
  },
  {
   "cell_type": "code",
   "execution_count": 6,
   "id": "466fdd89-fb1f-4e30-95be-7a981bb6d4f9",
   "metadata": {},
   "outputs": [
    {
     "name": "stdout",
     "output_type": "stream",
     "text": [
      "Shape of the Dataset on which Estimators will be Pre-Trained : (20296, 35003).\n",
      "Shape of the Dataset on which Stacking Classifier's Final Estimator will be Trained : (10930, 35003).\n",
      "Shape of the Dataset on which The Stacking Classifier will be evaluated : (3470, 35003).\n"
     ]
    }
   ],
   "source": [
    "# Stacking Classifier Data Sets :\n",
    "# Going to use 10% of the current training set as test for stacking classifier, this is actually 9% of the full dataset\n",
    "# since current training set was split form the original dataset with 90/10 train/test split.\n",
    "# From the remaining 81%, I'll set aside 35% as training set for Stacking Classifier itself\n",
    "# this comes out around 28.35% of the full dataset.\n",
    "# So, the estimators will be trained on roughly 52.65% of the original dataset.\n",
    "\n",
    "X_train_stack_remaining, X_test_stack, y_train_stack_remaining, y_test_stack = train_test_split(X_train,\n",
    "                                                                                                y_train,\n",
    "                                                                                                stratify = y_train,\n",
    "                                                                                                test_size = 0.1,\n",
    "                                                                                                random_state = 76)\n",
    "X_train_stack_estimators, X_train_stack_classifier, y_train_stack_estimators, y_train_stack_classifier = \\\n",
    "                                                                train_test_split(X_train_stack_remaining,\n",
    "                                                                                 y_train_stack_remaining,\n",
    "                                                                                 stratify = y_train_stack_remaining,\n",
    "                                                                                 test_size = 0.35,\n",
    "                                                                                 random_state = 76)\n",
    "print(f'Shape of the Dataset on which Estimators will be Pre-Trained : {X_train_stack_estimators.shape}.')\n",
    "print(f'Shape of the Dataset on which Stacking Classifier\\'s Final Estimator will be Trained : {X_train_stack_classifier.shape}.')\n",
    "print(f'Shape of the Dataset on which The Stacking Classifier will be evaluated : {X_test_stack.shape}.')"
   ]
  },
  {
   "cell_type": "code",
   "execution_count": 7,
   "id": "2f297f10-9558-4098-9c26-9e5151f07b6a",
   "metadata": {},
   "outputs": [
    {
     "name": "stdout",
     "output_type": "stream",
     "text": [
      "svm model took 33.988 secs to pre-fit.\n",
      "svm_prob model took 253.073 secs to pre-fit.\n",
      "logreg model took 5.523 secs to pre-fit.\n",
      "gb model took 342.516 secs to pre-fit.\n",
      "rf model took 28.739 secs to pre-fit.\n",
      "Name of Hard Pre-Fit Models -\n",
      "3 estimators : dict_keys(['svm', 'logreg', 'gb'])\n",
      "4 estimators : dict_keys(['svm', 'logreg', 'gb', 'rf'])\n",
      "Name of Soft Pre-Fit Models -\n",
      "3 estimators : dict_keys(['svm_prob', 'logreg', 'gb'])\n",
      "4 estimators : dict_keys(['svm_prob', 'logreg', 'gb', 'rf'])\n"
     ]
    }
   ],
   "source": [
    "# pre-training the estimators\n",
    "svm_stack = clone(best_svm)\n",
    "svm_prob_stack = clone(best_svm_prob)\n",
    "logreg_stack = clone(best_logreg)\n",
    "gb_stack = clone(best_gb)\n",
    "rf_stack = clone(best_rf)\n",
    "\n",
    "models_to_prefit = [\n",
    "    ('svm', svm_stack),\n",
    "    ('svm_prob', svm_prob_stack),\n",
    "    ('logreg', logreg_stack),\n",
    "    ('gb', gb_stack),\n",
    "    ('rf', rf_stack)\n",
    "]\n",
    "\n",
    "list_stack_trained_3_hard, list_stack_trained_4_hard, list_stack_trained_3_soft, list_stack_trained_4_soft = [], [], [], []\n",
    "for (name, estimator) in models_to_prefit:\n",
    "    start = time.time()\n",
    "    trained_model = estimator.fit(X_train_stack_estimators, y_train_stack_estimators)\n",
    "    end = time.time()\n",
    "    time_taken = round((end - start), 3)\n",
    "    print(f'{name} model took {time_taken} secs to pre-fit.')\n",
    "    if (name == 'svm'):\n",
    "        list_stack_trained_3_hard.append((name, trained_model))\n",
    "        list_stack_trained_4_hard.append((name, trained_model))\n",
    "    elif (name == 'svm_prob'):\n",
    "        list_stack_trained_3_soft.append((name, trained_model))\n",
    "        list_stack_trained_4_soft.append((name, trained_model))\n",
    "    elif (name == 'rf'):\n",
    "        list_stack_trained_4_hard.append((name, trained_model))\n",
    "        list_stack_trained_4_soft.append((name, trained_model))\n",
    "    else:\n",
    "        list_stack_trained_3_hard.append((name, trained_model))\n",
    "        list_stack_trained_4_hard.append((name, trained_model))\n",
    "        list_stack_trained_3_soft.append((name, trained_model))\n",
    "        list_stack_trained_4_soft.append((name, trained_model))\n",
    "\n",
    "print(f'Name of Hard Pre-Fit Models -')\n",
    "print(f'3 estimators : {dict(list_stack_trained_3_hard).keys()}')\n",
    "print(f'4 estimators : {dict(list_stack_trained_4_hard).keys()}')\n",
    "print(f'Name of Soft Pre-Fit Models -')\n",
    "print(f'3 estimators : {dict(list_stack_trained_3_soft).keys()}')\n",
    "print(f'4 estimators : {dict(list_stack_trained_4_soft).keys()}')"
   ]
  },
  {
   "cell_type": "code",
   "execution_count": 8,
   "id": "3683c1b8-49ea-4611-a819-e01720e9fd6e",
   "metadata": {},
   "outputs": [],
   "source": [
    "# list of final estimators to be used by Stacking Classifier\n",
    "# provided parameters are just there to ensure that there is no obvious bottleneck\n",
    "# these are (mostly) still the default classifiers\n",
    "final_estimators = [\n",
    "    ('Default', None),\n",
    "    ('Random Forest', RandomForestClassifier(n_estimators = 1000,\n",
    "                                             n_jobs = -1,\n",
    "                                             random_state = 76)),\n",
    "    ('Support Vector Machine', SVC(cache_size=1000,\n",
    "                                   random_state=76)),\n",
    "    ('Logistic Regression', LogisticRegression(max_iter = 1000,\n",
    "                                               random_state = 76)),\n",
    "    ('Gradient Boosting', GradientBoostingClassifier(n_estimators = 1000,\n",
    "                                                     random_state = 76)),\n",
    "    ('Ada Boosting', AdaBoostClassifier(n_estimators = 1000,\n",
    "                                        algorithm = 'SAMME',\n",
    "                                        random_state = 76)),\n",
    "    ('Extra Tree', ExtraTreesClassifier(n_estimators = 1000,\n",
    "                                        max_features = None,\n",
    "                                        # don't need this constraint with just 3/4 features (from 3/4 estimators)\n",
    "                                        random_state = 76)),\n",
    "    ('Hist Gradient Boosting', HistGradientBoostingClassifier(max_iter = 1000,\n",
    "                                                              random_state = 76))\n",
    "]"
   ]
  },
  {
   "cell_type": "code",
   "execution_count": 9,
   "id": "ddc32c49-cb7f-42b5-9183-4694a2934923",
   "metadata": {},
   "outputs": [
    {
     "name": "stdout",
     "output_type": "stream",
     "text": [
      "Stacking Classifier with Hard Voting using 3 Estimators & Default as Final Estimator :\n",
      "Time taken to fit 29.691 s, to predict 9.431 s. Accuracy : 0.96023.\n",
      "Best Score so far !!!\n",
      "Stacking Classifier with Hard Voting using 3 Estimators & Random Forest as Final Estimator :\n",
      "Time taken to fit 32.57 s, to predict 9.764 s. Accuracy : 0.96023.\n",
      "Matched Previous Best Score.\n",
      "Stacking Classifier with Hard Voting using 3 Estimators & Support Vector Machine as Final Estimator :\n",
      "Time taken to fit 29.684 s, to predict 10.925 s. Accuracy : 0.96023.\n",
      "Matched Previous Best Score.\n",
      "Stacking Classifier with Hard Voting using 3 Estimators & Logistic Regression as Final Estimator :\n",
      "Time taken to fit 29.798 s, to predict 9.434 s. Accuracy : 0.96023.\n",
      "Matched Previous Best Score.\n",
      "Stacking Classifier with Hard Voting using 3 Estimators & Gradient Boosting as Final Estimator :\n",
      "Time taken to fit 31.753 s, to predict 11.317 s. Accuracy : 0.96023.\n",
      "Matched Previous Best Score.\n",
      "Stacking Classifier with Hard Voting using 3 Estimators & Ada Boosting as Final Estimator :\n",
      "Time taken to fit 30.014 s, to predict 9.374 s. Accuracy : 0.96023.\n",
      "Matched Previous Best Score.\n",
      "Stacking Classifier with Hard Voting using 3 Estimators & Extra Tree as Final Estimator :\n",
      "Time taken to fit 30.401 s, to predict 9.1 s. Accuracy : 0.96023.\n",
      "Matched Previous Best Score.\n",
      "Stacking Classifier with Hard Voting using 3 Estimators & Hist Gradient Boosting as Final Estimator :\n",
      "Time taken to fit 28.853 s, to predict 9.482 s. Accuracy : 0.96023.\n",
      "Matched Previous Best Score.\n",
      "Stacking Classifier with Hard Voting using 4 Estimators & Default as Final Estimator :\n",
      "Time taken to fit 30.853 s, to predict 9.771 s. Accuracy : 0.9611.\n",
      "Best Score so far !!!\n",
      "Stacking Classifier with Hard Voting using 4 Estimators & Random Forest as Final Estimator :\n",
      "Time taken to fit 33.622 s, to predict 9.989 s. Accuracy : 0.95994.\n",
      "Previous Best was unbeaten.\n",
      "Stacking Classifier with Hard Voting using 4 Estimators & Support Vector Machine as Final Estimator :\n",
      "Time taken to fit 32.001 s, to predict 9.748 s. Accuracy : 0.96023.\n",
      "Previous Best was unbeaten.\n",
      "Stacking Classifier with Hard Voting using 4 Estimators & Logistic Regression as Final Estimator :\n",
      "Time taken to fit 30.465 s, to predict 10.073 s. Accuracy : 0.9611.\n",
      "Matched Previous Best Score.\n",
      "Stacking Classifier with Hard Voting using 4 Estimators & Gradient Boosting as Final Estimator :\n",
      "Time taken to fit 33.172 s, to predict 9.462 s. Accuracy : 0.96023.\n",
      "Previous Best was unbeaten.\n",
      "Stacking Classifier with Hard Voting using 4 Estimators & Ada Boosting as Final Estimator :\n",
      "Time taken to fit 31.705 s, to predict 9.622 s. Accuracy : 0.96023.\n",
      "Previous Best was unbeaten.\n",
      "Stacking Classifier with Hard Voting using 4 Estimators & Extra Tree as Final Estimator :\n",
      "Time taken to fit 32.473 s, to predict 9.908 s. Accuracy : 0.96081.\n",
      "Previous Best was unbeaten.\n",
      "Stacking Classifier with Hard Voting using 4 Estimators & Hist Gradient Boosting as Final Estimator :\n",
      "Time taken to fit 30.709 s, to predict 9.721 s. Accuracy : 0.9611.\n",
      "Matched Previous Best Score.\n",
      "Stacking Classifier with Soft Voting using 3 Estimators & Default as Final Estimator :\n",
      "Time taken to fit 29.235 s, to predict 9.271 s. Accuracy : 0.96081.\n",
      "Previous Best was unbeaten.\n",
      "Stacking Classifier with Soft Voting using 3 Estimators & Random Forest as Final Estimator :\n",
      "Time taken to fit 33.007 s, to predict 10.124 s. Accuracy : 0.95216.\n",
      "Previous Best was unbeaten.\n",
      "Stacking Classifier with Soft Voting using 3 Estimators & Support Vector Machine as Final Estimator :\n",
      "Time taken to fit 29.979 s, to predict 9.683 s. Accuracy : 0.96196.\n",
      "Best Score so far !!!\n",
      "Stacking Classifier with Soft Voting using 3 Estimators & Logistic Regression as Final Estimator :\n",
      "Time taken to fit 29.36 s, to predict 9.312 s. Accuracy : 0.96081.\n",
      "Previous Best was unbeaten.\n",
      "Stacking Classifier with Soft Voting using 3 Estimators & Gradient Boosting as Final Estimator :\n",
      "Time taken to fit 37.845 s, to predict 9.117 s. Accuracy : 0.94726.\n",
      "Previous Best was unbeaten.\n",
      "Stacking Classifier with Soft Voting using 3 Estimators & Ada Boosting as Final Estimator :\n",
      "Time taken to fit 34.004 s, to predict 9.563 s. Accuracy : 0.95937.\n",
      "Previous Best was unbeaten.\n",
      "Stacking Classifier with Soft Voting using 3 Estimators & Extra Tree as Final Estimator :\n",
      "Time taken to fit 33.87 s, to predict 9.611 s. Accuracy : 0.94784.\n",
      "Previous Best was unbeaten.\n",
      "Stacking Classifier with Soft Voting using 3 Estimators & Hist Gradient Boosting as Final Estimator :\n",
      "Time taken to fit 30.05 s, to predict 9.383 s. Accuracy : 0.95879.\n",
      "Previous Best was unbeaten.\n",
      "Stacking Classifier with Soft Voting using 4 Estimators & Default as Final Estimator :\n",
      "Time taken to fit 30.739 s, to predict 10.011 s. Accuracy : 0.96225.\n",
      "Best Score so far !!!\n",
      "Stacking Classifier with Soft Voting using 4 Estimators & Random Forest as Final Estimator :\n",
      "Time taken to fit 35.888 s, to predict 10.588 s. Accuracy : 0.95735.\n",
      "Previous Best was unbeaten.\n",
      "Stacking Classifier with Soft Voting using 4 Estimators & Support Vector Machine as Final Estimator :\n",
      "Time taken to fit 31.457 s, to predict 10.185 s. Accuracy : 0.96225.\n",
      "Matched Previous Best Score.\n",
      "Stacking Classifier with Soft Voting using 4 Estimators & Logistic Regression as Final Estimator :\n",
      "Time taken to fit 30.722 s, to predict 10.061 s. Accuracy : 0.96225.\n",
      "Matched Previous Best Score.\n",
      "Stacking Classifier with Soft Voting using 4 Estimators & Gradient Boosting as Final Estimator :\n",
      "Time taken to fit 41.365 s, to predict 9.642 s. Accuracy : 0.95043.\n",
      "Previous Best was unbeaten.\n",
      "Stacking Classifier with Soft Voting using 4 Estimators & Ada Boosting as Final Estimator :\n",
      "Time taken to fit 36.149 s, to predict 9.996 s. Accuracy : 0.96225.\n",
      "Matched Previous Best Score.\n",
      "Stacking Classifier with Soft Voting using 4 Estimators & Extra Tree as Final Estimator :\n",
      "Time taken to fit 35.876 s, to predict 10.124 s. Accuracy : 0.95303.\n",
      "Previous Best was unbeaten.\n",
      "Stacking Classifier with Soft Voting using 4 Estimators & Hist Gradient Boosting as Final Estimator :\n",
      "Time taken to fit 31.36 s, to predict 9.954 s. Accuracy : 0.9562.\n",
      "Previous Best was unbeaten.\n",
      "*****************************************************************************************************************************\n",
      "Best Accuracy of 0.96225 achieved with -\n",
      "Stacking Classifier with Soft Voting using 4 Estimators & Default as Final Estimator.\n",
      "Stacking Classifier with Soft Voting using 4 Estimators & Support Vector Machine as Final Estimator.\n",
      "Stacking Classifier with Soft Voting using 4 Estimators & Logistic Regression as Final Estimator.\n",
      "Stacking Classifier with Soft Voting using 4 Estimators & Ada Boosting as Final Estimator.\n"
     ]
    }
   ],
   "source": [
    "# skf = StratifiedKFold(n_splits = 3, shuffle = True, random_state = 76)\n",
    "identifier = ''\n",
    "best_acc = 0\n",
    "best_combo = []\n",
    "for voting in ['hard', 'soft']:\n",
    "    for estimator_count in [3, 4]:\n",
    "        for (fe_name, final_estimator) in final_estimators:\n",
    "            start = time.time()\n",
    "            if ((voting == 'hard') & (estimator_count == 3)):\n",
    "                identifier = f'Stacking Classifier with Hard Voting using 3 Estimators & {fe_name} as Final Estimator'\n",
    "                estimators = list_stack_trained_3_hard\n",
    "                stack_method = 'predict'\n",
    "                # stacking classifier will call base models' predict method for hard stacking\n",
    "            elif ((voting == 'hard') & (estimator_count == 4)):\n",
    "                identifier = f'Stacking Classifier with Hard Voting using 4 Estimators & {fe_name} as Final Estimator'\n",
    "                estimators = list_stack_trained_4_hard\n",
    "                stack_method = 'predict'\n",
    "            elif ((voting == 'soft') & (estimator_count == 3)):\n",
    "                identifier = f'Stacking Classifier with Soft Voting using 3 Estimators & {fe_name} as Final Estimator'\n",
    "                estimators = list_stack_trained_3_soft\n",
    "                stack_method = 'predict_proba'\n",
    "                # stacking classifier will call base models' predict_proba method for soft stacking\n",
    "            elif ((voting == 'soft') & (estimator_count == 4)):\n",
    "                identifier = f'Stacking Classifier with Soft Voting using 4 Estimators & {fe_name} as Final Estimator'\n",
    "                estimators = list_stack_trained_4_soft\n",
    "                stack_method = 'predict_proba'\n",
    "        \n",
    "            print(identifier + ' :')\n",
    "            stacking_classifier = StackingClassifier(estimators = estimators,\n",
    "                                                     stack_method = stack_method,\n",
    "                                                     cv = 'prefit',\n",
    "                                                     final_estimator = final_estimator)\n",
    "            stacking_model = stacking_classifier.fit(X_train_stack_classifier, y_train_stack_classifier)\n",
    "            end = time.time()\n",
    "            fit_time = round((end - start), 3)\n",
    "        \n",
    "            start = time.time()\n",
    "            preds = stacking_model.predict(X_test_stack)\n",
    "            end = time.time()\n",
    "            pred_time = round((end - start), 3)\n",
    "\n",
    "            acc_score = round((sum(preds == y_test_stack) /  len(y_test_stack)), 5)\n",
    "        \n",
    "            print(f'Time taken to fit {fit_time} s, to predict {pred_time} s. Accuracy : {acc_score}.')\n",
    "            \n",
    "            if (acc_score > best_acc):\n",
    "                best_acc = acc_score\n",
    "                best_combo = []\n",
    "                best_combo.append(identifier)\n",
    "                print('Best Score so far !!!')\n",
    "            elif (acc_score == best_acc):\n",
    "                best_combo.append(identifier)\n",
    "                print('Matched Previous Best Score.')\n",
    "            else:\n",
    "                print('Previous Best was unbeaten.')\n",
    "\n",
    "\n",
    "print('*' * 125)\n",
    "print(f'Best Accuracy of {best_acc} achieved with -')\n",
    "for identifier in best_combo:\n",
    "    print(identifier + '.')"
   ]
  },
  {
   "cell_type": "markdown",
   "id": "77b72ddf-b018-4c13-b0a2-f700713c0d0f",
   "metadata": {},
   "source": [
    "We have not one, but 4 best performing Stacking Classifier models - all of them are using Soft voting on 4 classifiers, only difference is the final estimator. I have to try each of them out - this time the base estimators and final estimator all will be trained from scratch (no pre-trained models) with Cross Validation on the full training set."
   ]
  },
  {
   "cell_type": "code",
   "execution_count": 11,
   "id": "1e23db85-b6f4-42f2-b406-33e9c8047de5",
   "metadata": {},
   "outputs": [
    {
     "name": "stdout",
     "output_type": "stream",
     "text": [
      "[Parallel(n_jobs=2)]: Using backend ThreadingBackend with 2 concurrent workers.\n",
      "[Parallel(n_jobs=2)]: Done   1 tasks      | elapsed:  7.3min\n",
      "[Parallel(n_jobs=2)]: Done   3 out of   3 | elapsed: 12.6min finished\n",
      "[Parallel(n_jobs=2)]: Using backend ThreadingBackend with 2 concurrent workers.\n",
      "[Parallel(n_jobs=2)]: Done   1 tasks      | elapsed:  2.5min\n",
      "[Parallel(n_jobs=2)]: Done   3 out of   3 | elapsed:  4.6min finished\n"
     ]
    }
   ],
   "source": [
    "# Best Accuracy of 0.96225 achieved with -\n",
    "# Stacking Classifier with Soft Voting using 4 Estimators & Default as Final Estimator.\n",
    "\n",
    "# fit\n",
    "stacking_classifier = StackingClassifier(estimators = list_4_estimators_soft, # reverting back to old list of non-trained models\n",
    "                                         stack_method = 'predict_proba',\n",
    "                                         cv = skf,\n",
    "                                         n_jobs = 2,\n",
    "                                         verbose = 100)\n",
    "\n",
    "start = time.time()\n",
    "stacking_model = stacking_classifier.fit(X_train, y_train)\n",
    "end = time.time()\n",
    "fit_time = (end - start)"
   ]
  },
  {
   "cell_type": "code",
   "execution_count": 12,
   "id": "eb3334f4-357a-4a4c-8fbd-bda112a18245",
   "metadata": {},
   "outputs": [
    {
     "name": "stdout",
     "output_type": "stream",
     "text": [
      "Fit time: 2206.666 s / Predict time: 22.33 s ---- Precision: 0.961 / Recall: 0.96 / Accuracy: 0.963\n",
      "\n",
      "Classification Report :\n",
      "\n",
      "              precision    recall  f1-score   support\n",
      "\n",
      "        Real       0.96      0.96      0.96      3187\n",
      "        Fake       0.96      0.96      0.96      2936\n",
      "\n",
      "    accuracy                           0.96      6123\n",
      "   macro avg       0.96      0.96      0.96      6123\n",
      "weighted avg       0.96      0.96      0.96      6123\n",
      "\n",
      "ROC AUC Score : 0.9625169605062802\n",
      "\n",
      "\n",
      "Confusion Matrix :\n",
      "\n"
     ]
    },
    {
     "data": {
      "image/png": "[encoded data removed]",
      "text/plain": [
       "<Figure size 640x480 with 2 Axes>"
      ]
     },
     "metadata": {},
     "output_type": "display_data"
    }
   ],
   "source": [
    "# Best Accuracy of 0.96225 achieved with -\n",
    "# Stacking Classifier with Soft Voting using 4 Estimators & Default as Final Estimator.\n",
    "\n",
    "# predict\n",
    "start = time.time()\n",
    "y_pred = stacking_model.predict(X_test)\n",
    "end = time.time()\n",
    "pred_time = (end - start)\n",
    "\n",
    "ls.test_results(y_test, y_pred, fit_time, pred_time)"
   ]
  },
  {
   "cell_type": "code",
   "execution_count": 19,
   "id": "003c751a-eced-43de-9e13-33259c4b3bf9",
   "metadata": {},
   "outputs": [
    {
     "name": "stdout",
     "output_type": "stream",
     "text": [
      "[Parallel(n_jobs=1)]: Done   1 tasks      | elapsed:  7.7min\n",
      "[Parallel(n_jobs=1)]: Done   2 tasks      | elapsed: 15.8min\n",
      "[Parallel(n_jobs=1)]: Done   3 tasks      | elapsed: 22.7min\n",
      "[Parallel(n_jobs=1)]: Done   3 tasks      | elapsed: 22.7min\n",
      "[Parallel(n_jobs=1)]: Done   1 tasks      | elapsed:    9.6s\n",
      "[Parallel(n_jobs=1)]: Done   2 tasks      | elapsed:   18.4s\n",
      "[Parallel(n_jobs=1)]: Done   3 tasks      | elapsed:   26.5s\n",
      "[Parallel(n_jobs=1)]: Done   3 tasks      | elapsed:   26.5s\n",
      "[Parallel(n_jobs=1)]: Done   1 tasks      | elapsed:  3.6min\n",
      "[Parallel(n_jobs=1)]: Done   2 tasks      | elapsed:  9.1min\n",
      "[Parallel(n_jobs=1)]: Done   3 tasks      | elapsed: 15.5min\n",
      "[Parallel(n_jobs=1)]: Done   3 tasks      | elapsed: 15.5min\n",
      "[Parallel(n_jobs=1)]: Done   1 tasks      | elapsed:   31.5s\n",
      "[Parallel(n_jobs=1)]: Done   2 tasks      | elapsed:  1.1min\n",
      "[Parallel(n_jobs=1)]: Done   3 tasks      | elapsed:  1.6min\n",
      "[Parallel(n_jobs=1)]: Done   3 tasks      | elapsed:  1.6min\n"
     ]
    }
   ],
   "source": [
    "# Best Accuracy of 0.96225 achieved with -\n",
    "# Stacking Classifier with Soft Voting using 4 Estimators & Support Vector Machine as Final Estimator.\n",
    "\n",
    "# fit\n",
    "stacking_classifier = StackingClassifier(estimators = list_4_estimators_soft,\n",
    "                                         stack_method = 'predict_proba',\n",
    "                                         cv = skf,\n",
    "                                         final_estimator = SVC(cache_size=1000,\n",
    "                                                               random_state=76),\n",
    "                                         # n_jobs = 2, commented out due to following error :\n",
    "                                         # UserWarning: A worker stopped while some jobs were given to the executor.\n",
    "                                         # This can be caused by a too short worker timeout or by a memory leak.\n",
    "                                         verbose = 100)\n",
    "\n",
    "start = time.time()\n",
    "stacking_model = stacking_classifier.fit(X_train, y_train)\n",
    "end = time.time()\n",
    "fit_time = (end - start)"
   ]
  },
  {
   "cell_type": "code",
   "execution_count": 20,
   "id": "1afa1472-e235-4920-a3eb-4550c2ec3bae",
   "metadata": {},
   "outputs": [
    {
     "name": "stdout",
     "output_type": "stream",
     "text": [
      "Fit time: 3843.639 s / Predict time: 22.971 s ---- Precision: 0.962 / Recall: 0.961 / Accuracy: 0.963\n",
      "\n",
      "Classification Report :\n",
      "\n",
      "              precision    recall  f1-score   support\n",
      "\n",
      "        Real       0.96      0.96      0.96      3187\n",
      "        Fake       0.96      0.96      0.96      2936\n",
      "\n",
      "    accuracy                           0.96      6123\n",
      "   macro avg       0.96      0.96      0.96      6123\n",
      "weighted avg       0.96      0.96      0.96      6123\n",
      "\n",
      "ROC AUC Score : 0.9628441475886799\n",
      "\n",
      "\n",
      "Confusion Matrix :\n",
      "\n"
     ]
    },
    {
     "data": {
      "image/png": "[encoded data removed]",
      "text/plain": [
       "<Figure size 640x480 with 2 Axes>"
      ]
     },
     "metadata": {},
     "output_type": "display_data"
    }
   ],
   "source": [
    "# Best Accuracy of 0.96225 achieved with -\n",
    "# Stacking Classifier with Soft Voting using 4 Estimators & Support Vector Machine as Final Estimator.\n",
    "\n",
    "# predict\n",
    "start = time.time()\n",
    "y_pred = stacking_model.predict(X_test)\n",
    "end = time.time()\n",
    "pred_time = (end - start)\n",
    "\n",
    "ls.test_results(y_test, y_pred, fit_time, pred_time)"
   ]
  },
  {
   "cell_type": "code",
   "execution_count": 21,
   "id": "a243fab5-34bc-4ffe-ab5a-23a230014e89",
   "metadata": {},
   "outputs": [
    {
     "name": "stdout",
     "output_type": "stream",
     "text": [
      "[Parallel(n_jobs=1)]: Done   1 tasks      | elapsed:  5.4min\n",
      "[Parallel(n_jobs=1)]: Done   2 tasks      | elapsed: 11.4min\n",
      "[Parallel(n_jobs=1)]: Done   3 tasks      | elapsed: 17.1min\n",
      "[Parallel(n_jobs=1)]: Done   3 tasks      | elapsed: 17.1min\n",
      "[Parallel(n_jobs=1)]: Done   1 tasks      | elapsed:    9.1s\n",
      "[Parallel(n_jobs=1)]: Done   2 tasks      | elapsed:   17.2s\n",
      "[Parallel(n_jobs=1)]: Done   3 tasks      | elapsed:   26.1s\n",
      "[Parallel(n_jobs=1)]: Done   3 tasks      | elapsed:   26.1s\n",
      "[Parallel(n_jobs=1)]: Done   1 tasks      | elapsed:  3.6min\n",
      "[Parallel(n_jobs=1)]: Done   2 tasks      | elapsed:  8.6min\n",
      "[Parallel(n_jobs=1)]: Done   3 tasks      | elapsed: 15.3min\n",
      "[Parallel(n_jobs=1)]: Done   3 tasks      | elapsed: 15.3min\n",
      "[Parallel(n_jobs=1)]: Done   1 tasks      | elapsed:   41.5s\n",
      "[Parallel(n_jobs=1)]: Done   2 tasks      | elapsed:  1.4min\n",
      "[Parallel(n_jobs=1)]: Done   3 tasks      | elapsed:  2.1min\n",
      "[Parallel(n_jobs=1)]: Done   3 tasks      | elapsed:  2.1min\n"
     ]
    }
   ],
   "source": [
    "# Best Accuracy of 0.96225 achieved with -\n",
    "# Stacking Classifier with Soft Voting using 4 Estimators & Logistic Regression as Final Estimator.\n",
    "\n",
    "# fit\n",
    "stacking_classifier = StackingClassifier(estimators = list_4_estimators_soft,\n",
    "                                         stack_method = 'predict_proba',\n",
    "                                         cv = skf,\n",
    "                                         final_estimator = LogisticRegression(max_iter = 1000,\n",
    "                                                                              random_state = 76),\n",
    "                                         # n_jobs = 2,\n",
    "                                         verbose = 100)\n",
    "\n",
    "start = time.time()\n",
    "stacking_model = stacking_classifier.fit(X_train, y_train)\n",
    "end = time.time()\n",
    "fit_time = (end - start)"
   ]
  },
  {
   "cell_type": "code",
   "execution_count": 22,
   "id": "d9a9f951-0810-4624-a6fd-fafff02979ce",
   "metadata": {},
   "outputs": [
    {
     "name": "stdout",
     "output_type": "stream",
     "text": [
      "Fit time: 3464.669 s / Predict time: 31.887 s ---- Precision: 0.961 / Recall: 0.96 / Accuracy: 0.963\n",
      "\n",
      "Classification Report :\n",
      "\n",
      "              precision    recall  f1-score   support\n",
      "\n",
      "        Real       0.96      0.96      0.96      3187\n",
      "        Fake       0.96      0.96      0.96      2936\n",
      "\n",
      "    accuracy                           0.96      6123\n",
      "   macro avg       0.96      0.96      0.96      6123\n",
      "weighted avg       0.96      0.96      0.96      6123\n",
      "\n",
      "ROC AUC Score : 0.9625169605062802\n",
      "\n",
      "\n",
      "Confusion Matrix :\n",
      "\n"
     ]
    },
    {
     "data": {
      "image/png": "[encoded data removed]",
      "text/plain": [
       "<Figure size 640x480 with 2 Axes>"
      ]
     },
     "metadata": {},
     "output_type": "display_data"
    }
   ],
   "source": [
    "# Best Accuracy of 0.96225 achieved with -\n",
    "# Stacking Classifier with Soft Voting using 4 Estimators & Logistic Regression as Final Estimator.\n",
    "\n",
    "# predict\n",
    "start = time.time()\n",
    "y_pred = stacking_model.predict(X_test)\n",
    "end = time.time()\n",
    "pred_time = (end - start)\n",
    "\n",
    "ls.test_results(y_test, y_pred, fit_time, pred_time)"
   ]
  },
  {
   "cell_type": "code",
   "execution_count": 17,
   "id": "e31c2030-94bd-4578-a247-3aaa69a42ce3",
   "metadata": {},
   "outputs": [
    {
     "name": "stdout",
     "output_type": "stream",
     "text": [
      "[Parallel(n_jobs=2)]: Using backend ThreadingBackend with 2 concurrent workers.\n",
      "[Parallel(n_jobs=2)]: Done   1 tasks      | elapsed:   12.6s\n",
      "[Parallel(n_jobs=2)]: Done   3 out of   3 | elapsed:   23.6s finished\n",
      "[Parallel(n_jobs=2)]: Using backend ThreadingBackend with 2 concurrent workers.\n",
      "[Parallel(n_jobs=2)]: Done   1 tasks      | elapsed:  5.9min\n",
      "[Parallel(n_jobs=2)]: Done   3 out of   3 | elapsed: 13.0min finished\n"
     ]
    }
   ],
   "source": [
    "# Best Accuracy of 0.96225 achieved with -\n",
    "# Stacking Classifier with Soft Voting using 4 Estimators & Ada Boosting as Final Estimator.\n",
    "\n",
    "# fit\n",
    "stacking_classifier = StackingClassifier(estimators = list_4_estimators_soft,\n",
    "                                         stack_method = 'predict_proba',\n",
    "                                         cv = skf,\n",
    "                                         final_estimator = AdaBoostClassifier(n_estimators = 1000,\n",
    "                                                                              algorithm = 'SAMME',\n",
    "                                                                              random_state = 76))\n",
    "\n",
    "start = time.time()\n",
    "stacking_model = stacking_classifier.fit(X_train, y_train)\n",
    "end = time.time()\n",
    "fit_time = (end - start)"
   ]
  },
  {
   "cell_type": "code",
   "execution_count": 18,
   "id": "a376d0ab-0e43-4e38-8f6a-40dd809740ab",
   "metadata": {},
   "outputs": [
    {
     "name": "stdout",
     "output_type": "stream",
     "text": [
      "Fit time: 3035.697 s / Predict time: 23.219 s ---- Precision: 0.964 / Recall: 0.959 / Accuracy: 0.963\n",
      "\n",
      "Classification Report :\n",
      "\n",
      "              precision    recall  f1-score   support\n",
      "\n",
      "        Real       0.96      0.97      0.96      3187\n",
      "        Fake       0.96      0.96      0.96      2936\n",
      "\n",
      "    accuracy                           0.96      6123\n",
      "   macro avg       0.96      0.96      0.96      6123\n",
      "weighted avg       0.96      0.96      0.96      6123\n",
      "\n",
      "ROC AUC Score : 0.9632611601627525\n",
      "\n",
      "\n",
      "Confusion Matrix :\n",
      "\n"
     ]
    },
    {
     "data": {
      "image/png": "[encoded data removed]",
      "text/plain": [
       "<Figure size 640x480 with 2 Axes>"
      ]
     },
     "metadata": {},
     "output_type": "display_data"
    }
   ],
   "source": [
    "# Best Accuracy of 0.96225 achieved with -\n",
    "# Stacking Classifier with Soft Voting using 4 Estimators & Ada Boosting as Final Estimator.\n",
    "\n",
    "# predict\n",
    "start = time.time()\n",
    "y_pred = stacking_model.predict(X_test)\n",
    "end = time.time()\n",
    "pred_time = (end - start)\n",
    "\n",
    "ls.test_results(y_test, y_pred, fit_time, pred_time)"
   ]
  },
  {
   "cell_type": "markdown",
   "id": "8537372e-2f08-464a-93f4-58cd21e4024a",
   "metadata": {},
   "source": [
    "As (kind of) predicted by our earlier test, each of the best performing (in our test) model performs almost equally well - 0.963 accuracy was achieved by each of them. But it was still worth checking anyway - as I have seen while cross validating thousands of models throughout the course of this project, cross validation accuracy is not always a good predictor of accuracy on test set (which is what we have been basing our decisions so far; in general, cross validation accuracy of a larger training set should generalize better).\n",
    "\n",
    "Thing is, none of these scores (0.963 of Stacking Classifiers, Voting Classifier's score was actually worse than that of SVM) are a huge improvement over the accuracy of our best performing individual model (SVM, with accuracy of 0.962). As I mentioned earlier (didn't actually think that the best I would be able to achieve with these ensemble models would literally be 0.963 at that time), this minuscule improvement in score can not justify the increase in complexity that comes with these ensemble models. I would rather stick with the SVM model as our final one."
   ]
  },
  {
   "cell_type": "markdown",
   "id": "8099d16b-3afa-4403-b0a9-166001b631f6",
   "metadata": {},
   "source": [
    "### Final Model"
   ]
  },
  {
   "cell_type": "code",
   "execution_count": 23,
   "id": "21aa3277-f9d6-4735-9fe5-4082e0e0451d",
   "metadata": {},
   "outputs": [
    {
     "name": "stdout",
     "output_type": "stream",
     "text": [
      "Fit time: 314.473 s / Predict time: 13.922 s ---- Precision: 0.963 / Recall: 0.958 / Accuracy: 0.962\n",
      "\n",
      "Classification Report :\n",
      "\n",
      "              precision    recall  f1-score   support\n",
      "\n",
      "        Real       0.96      0.97      0.96      3187\n",
      "        Fake       0.96      0.96      0.96      2936\n",
      "\n",
      "    accuracy                           0.96      6123\n",
      "   macro avg       0.96      0.96      0.96      6123\n",
      "weighted avg       0.96      0.96      0.96      6123\n",
      "\n",
      "ROC AUC Score : 0.9619389994605128\n",
      "\n",
      "\n",
      "Confusion Matrix :\n",
      "\n"
     ]
    },
    {
     "data": {
      "image/png": "[encoded data removed]",
      "text/plain": [
       "<Figure size 640x480 with 2 Axes>"
      ]
     },
     "metadata": {},
     "output_type": "display_data"
    }
   ],
   "source": [
    "final_classifier = SVC(kernel = 'rbf',\n",
    "                       C = 285.84,\n",
    "                       gamma = 0.8546,\n",
    "                       tol = 0.015,\n",
    "                       cache_size=1000,\n",
    "                       random_state=76)\n",
    "\n",
    "start = time.time()\n",
    "final_model = final_classifier.fit(X_train, y_train)\n",
    "end = time.time()\n",
    "fit_time = (end - start)\n",
    "\n",
    "start = time.time()\n",
    "y_pred = final_model.predict(X_test)\n",
    "end = time.time()\n",
    "pred_time = (end - start)\n",
    "\n",
    "ls.test_results(y_test, y_pred, fit_time, pred_time)\n",
    "# in hindsight, I have used this code-snippet so many times in this project, rather than putting just\n",
    "# the test_results function, this whole thing should have been put in the logging&Scoring module"
   ]
  },
  {
   "cell_type": "code",
   "execution_count": 24,
   "id": "46a6c893-b94a-4ec4-b22c-9ca77893ee59",
   "metadata": {},
   "outputs": [],
   "source": [
    "modelpath = pathlib.Path('..') / 'Model'\n",
    "final_model_name = 'svm.pkl'\n",
    "with open(modelpath / final_model_name, 'wb') as model_file:\n",
    "    pickle.dump(final_model, model_file)"
   ]
  }
 ],
 "metadata": {
  "kernelspec": {
   "display_name": "Python 3 (ipykernel)",
   "language": "python",
   "name": "python3"
  },
  "language_info": {
   "codemirror_mode": {
    "name": "ipython",
    "version": 3
   },
   "file_extension": ".py",
   "mimetype": "text/x-python",
   "name": "python",
   "nbconvert_exporter": "python",
   "pygments_lexer": "ipython3",
   "version": "3.11.5"
  }
 },
 "nbformat": 4,
 "nbformat_minor": 5
}
